{
 "cells": [
  {
   "cell_type": "code",
   "execution_count": 4,
   "id": "af538033",
   "metadata": {},
   "outputs": [],
   "source": [
    "#general and dataframe imports\n",
    "\n",
    "import os\n",
    "import glob\n",
    "import torch\n",
    "import pandas as pd\n",
    "import numpy as np\n",
    "\n",
    "#import sklearn (SVM, Randomforest, logistic regression and k-means)\n",
    "from sklearn.svm import SVC\n",
    "from sklearn.linear_model import LogisticRegression\n",
    "from sklearn.ensemble import RandomForestClassifier\n",
    "from sklearn.neighbors import KNeighborsClassifier \n",
    "\n",
    "#preprocessing imports \n",
    "\n",
    "from sklearn import preprocessing\n"
   ]
  },
  {
   "cell_type": "code",
   "execution_count": null,
   "id": "e0c29026",
   "metadata": {},
   "outputs": [],
   "source": [
    "#dataloading \n",
    "#get (temporary set ->use for now but make own data)\n",
    "\n",
    "url = \"https://raw.githubusercontent.com/erobl/csnn/main/metadata/B-ALL_train.csv\"\n",
    "training = pd.read_csv(url)\n",
    "print(training['File'])\n",
    "folder_path = r'C:\\Users\\albao\\Desktop\\PROJECT17\\DATA\\B-ALL_178'\n",
    "df = []\n",
    "\n",
    "file_list = glob.glob(os.path.join(folder_path, '*.txt'))\n",
    "for files in file_list:\n",
    "  temp = pd.read_csv(files, sep='\\t')\n",
    "  df.append(temp)"
   ]
  }
 ],
 "metadata": {
  "kernelspec": {
   "display_name": "Python 3 (ipykernel)",
   "language": "python",
   "name": "python3"
  },
  "language_info": {
   "codemirror_mode": {
    "name": "ipython",
    "version": 3
   },
   "file_extension": ".py",
   "mimetype": "text/x-python",
   "name": "python",
   "nbconvert_exporter": "python",
   "pygments_lexer": "ipython3",
   "version": "3.10.9"
  }
 },
 "nbformat": 4,
 "nbformat_minor": 5
}
